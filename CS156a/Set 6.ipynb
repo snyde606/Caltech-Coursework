{
 "cells": [
  {
   "cell_type": "code",
   "execution_count": 5,
   "metadata": {},
   "outputs": [],
   "source": [
    "#PROBLEM 2\n",
    "\n",
    "import random\n",
    "from scipy import linalg\n",
    "import numpy\n",
    "\n",
    "def doNonLinRegRun():\n",
    "    #IMPORT POINTS\n",
    "    trainstrs = []\n",
    "    teststrs = []\n",
    "    trainlines = open('in.dta.txt', 'r')\n",
    "    testlines = open('out.dta.txt', 'r')\n",
    "    for line in trainlines:\n",
    "        trainstrs.append(line.split())\n",
    "    for line in testlines:\n",
    "        teststrs.append(line.split())\n",
    "        \n",
    "    trainpts = []\n",
    "    testpts = []\n",
    "    for stri in trainstrs:\n",
    "        trainpts.append([float(stri[0]), float(stri[1]), float(stri[2])])\n",
    "    for stri in teststrs:\n",
    "        testpts.append([float(stri[0]), float(stri[1]), float(stri[2])])\n",
    "        \n",
    "    #TRANSFORM POINTS\n",
    "    newtrainpoints = []\n",
    "    newtestpoints = []\n",
    "    for point in trainpts:\n",
    "        newtrainpoints.append([point[0], point[1], point[0]**2, point[1]**2, point[0]*point[1], \\\n",
    "                               numpy.abs(point[0] - point[1]), numpy.abs(point[1] + point[0]), point[2]])\n",
    "    for point in testpts:\n",
    "        newtestpoints.append([point[0], point[1], point[0]**2, point[1]**2, point[0]*point[1], \\\n",
    "                              numpy.abs(point[0] - point[1]), numpy.abs(point[1] + point[0]), point[2]])\n",
    "\n",
    "    #APPLY ALGORITHM\n",
    "    xmat = []\n",
    "    ymat = []\n",
    "    for point in newtrainpoints:\n",
    "        xmat.append([1, point[0], point[1], point[2], point[3], point[4], point[5], point[6]])\n",
    "        ymat.append(point[7])\n",
    "    xmat = numpy.asarray(xmat)\n",
    "    ymat = numpy.asarray(ymat)\n",
    "    \n",
    "    pseudoinverse = linalg.pinv(xmat)\n",
    "    weight = numpy.matmul(pseudoinverse, ymat)\n",
    "    \n",
    "    #COMPUTE IN-SAMPLE ERROR\n",
    "    wrongtraincount = 0\n",
    "    for point in newtrainpoints:\n",
    "        if numpy.sign(weight[0] + weight[1]*point[0] + weight[2]*point[1] + weight[3]*point[2] + \\\n",
    "                      weight[4]*point[3] + weight[5]*point[4] + weight[6]*point[5] + weight[7]*point[6]) != point[7]:\n",
    "            wrongtraincount += 1\n",
    "    wrongtraincount /= len(newtrainpoints)\n",
    "        \n",
    "    #COMPUTE OUT-OF-SAMPLE ERROR\n",
    "    wrongtestcount = 0\n",
    "    for point in newtestpoints:\n",
    "        if numpy.sign(weight[0] + weight[1]*point[0] + weight[2]*point[1] + weight[3]*point[2] + \\\n",
    "                      weight[4]*point[3] + weight[5]*point[4] + weight[6]*point[5] + weight[7]*point[6]) != point[7]:\n",
    "            wrongtestcount += 1\n",
    "    wrongtestcount /= len(newtestpoints)\n",
    "        y\n",
    "    return [wrongtraincount, wrongtestcount]"
   ]
  },
  {
   "cell_type": "code",
   "execution_count": 8,
   "metadata": {},
   "outputs": [
    {
     "name": "stdout",
     "output_type": "stream",
     "text": [
      "In sample error, out of sample error respectively: [0.02857142857142857, 0.084]\n"
     ]
    }
   ],
   "source": [
    "print('In-sample error, out-of-sample error respectively: ' + str(doNonLinRegRun()))"
   ]
  },
  {
   "cell_type": "markdown",
   "metadata": {},
   "source": [
    "Because the in sample error and out of sample error are closest to 0.03 and 0.08, the answer to question 2 is A."
   ]
  },
  {
   "cell_type": "code",
   "execution_count": 14,
   "metadata": {},
   "outputs": [],
   "source": [
    "#PROBLEM 3\n",
    "\n",
    "import random\n",
    "from scipy import linalg\n",
    "import numpy\n",
    "\n",
    "def doWeightDecayRun(k):\n",
    "    #IMPORT POINTS\n",
    "    trainstrs = []\n",
    "    teststrs = []\n",
    "    trainlines = open('in.dta.txt', 'r')\n",
    "    testlines = open('out.dta.txt', 'r')\n",
    "    for line in trainlines:\n",
    "        trainstrs.append(line.split())\n",
    "    for line in testlines:\n",
    "        teststrs.append(line.split())\n",
    "        \n",
    "    trainpts = []\n",
    "    testpts = []\n",
    "    for stri in trainstrs:\n",
    "        trainpts.append([float(stri[0]), float(stri[1]), float(stri[2])])\n",
    "    for stri in teststrs:\n",
    "        testpts.append([float(stri[0]), float(stri[1]), float(stri[2])])\n",
    "        \n",
    "    #TRANSFORM POINTS\n",
    "    newtrainpoints = []\n",
    "    newtestpoints = []\n",
    "    for point in trainpts:\n",
    "        newtrainpoints.append([point[0], point[1], point[0]**2, point[1]**2, point[0]*point[1], \\\n",
    "                               numpy.abs(point[0] - point[1]), numpy.abs(point[1] + point[0]), point[2]])\n",
    "    for point in testpts:\n",
    "        newtestpoints.append([point[0], point[1], point[0]**2, point[1]**2, point[0]*point[1], \\\n",
    "                              numpy.abs(point[0] - point[1]), numpy.abs(point[1] + point[0]), point[2]])\n",
    "\n",
    "    #APPLY ALGORITHM\n",
    "    xmat = []\n",
    "    ymat = []\n",
    "    for point in newtrainpoints:\n",
    "        xmat.append([1, point[0], point[1], point[2], point[3], point[4], point[5], point[6]])\n",
    "        ymat.append(point[7])\n",
    "    xmat = numpy.asarray(xmat)\n",
    "    ymat = numpy.asarray(ymat)\n",
    "    \n",
    "    \n",
    "    lambd = 10 ** k\n",
    "    ztz = numpy.matmul(numpy.transpose(xmat), xmat)\n",
    "    pluslami = numpy.add(ztz, numpy.identity(len(xmat[0])) * lambd)\n",
    "    invzt = numpy.matmul(numpy.linalg.inv(pluslami), numpy.transpose(xmat))\n",
    "    weight = numpy.matmul(invzt, ymat)\n",
    "    \n",
    "    #COMPUTE IN-SAMPLE ERROR\n",
    "    wrongtraincount = 0\n",
    "    for point in newtrainpoints:\n",
    "        if numpy.sign(weight[0] + weight[1]*point[0] + weight[2]*point[1] + weight[3]*point[2] + \\\n",
    "                      weight[4]*point[3] + weight[5]*point[4] + weight[6]*point[5] + weight[7]*point[6]) != point[7]:\n",
    "            wrongtraincount += 1\n",
    "    wrongtraincount /= len(newtrainpoints)\n",
    "        \n",
    "    #COMPUTE OUT-OF-SAMPLE ERROR\n",
    "    wrongtestcount = 0\n",
    "    for point in newtestpoints:\n",
    "        if numpy.sign(weight[0] + weight[1]*point[0] + weight[2]*point[1] + weight[3]*point[2] + \\\n",
    "                      weight[4]*point[3] + weight[5]*point[4] + weight[6]*point[5] + weight[7]*point[6]) != point[7]:\n",
    "            wrongtestcount += 1\n",
    "    wrongtestcount /= len(newtestpoints)\n",
    "        \n",
    "    return [wrongtraincount, wrongtestcount]"
   ]
  },
  {
   "cell_type": "code",
   "execution_count": 16,
   "metadata": {},
   "outputs": [
    {
     "name": "stdout",
     "output_type": "stream",
     "text": [
      "In sample error, out of sample error respectively: [0.02857142857142857, 0.08]\n"
     ]
    }
   ],
   "source": [
    "print('In-sample error, out-of-sample error respectively: ' + str(doWeightDecayRun(-3)))"
   ]
  },
  {
   "cell_type": "markdown",
   "metadata": {},
   "source": [
    "Because the in sample error and out of sample error are closest to 0.03 and 0.08, the answer to question 3 is D."
   ]
  },
  {
   "cell_type": "code",
   "execution_count": 17,
   "metadata": {},
   "outputs": [
    {
     "name": "stdout",
     "output_type": "stream",
     "text": [
      "In sample error, out of sample error respectively: [0.37142857142857144, 0.436]\n"
     ]
    }
   ],
   "source": [
    "print('In-sample error, out-of-sample error respectively: ' + str(doWeightDecayRun(3)))"
   ]
  },
  {
   "cell_type": "markdown",
   "metadata": {},
   "source": [
    "Because the in sample error and out of sample error are closest to 0.04 and 0.04, the answer to question 4 is E."
   ]
  },
  {
   "cell_type": "code",
   "execution_count": 19,
   "metadata": {},
   "outputs": [
    {
     "name": "stdout",
     "output_type": "stream",
     "text": [
      "In sample error, out of sample error respectively (k = 2): [0.2, 0.228]\n",
      "In sample error, out of sample error respectively (k = 1): [0.05714285714285714, 0.124]\n",
      "In sample error, out of sample error respectively (k = 0): [0.0, 0.092]\n",
      "In sample error, out of sample error respectively (k = -1): [0.02857142857142857, 0.056]\n",
      "In sample error, out of sample error respectively (k = -2): [0.02857142857142857, 0.084]\n"
     ]
    }
   ],
   "source": [
    "print('In-sample error, out-of-sample error respectively (k = 2): ' + str(doWeightDecayRun(2)))\n",
    "print('In-sample error, out-of-sample error respectively (k = 1): ' + str(doWeightDecayRun(1)))\n",
    "print('In-sample error, out-of-sample error respectively (k = 0): ' + str(doWeightDecayRun(0)))\n",
    "print('In-sample error, out-of-sample error respectively (k = -1): ' + str(doWeightDecayRun(-1)))\n",
    "print('In-sample error, out-of-sample error respectively (k = -2): ' + str(doWeightDecayRun(-2)))"
   ]
  },
  {
   "cell_type": "markdown",
   "metadata": {},
   "source": [
    "We can see that the smallest out-of-sample classification error occurs when k = -1. So the answer to question 5 is D."
   ]
  },
  {
   "cell_type": "code",
   "execution_count": 25,
   "metadata": {},
   "outputs": [
    {
     "name": "stdout",
     "output_type": "stream",
     "text": [
      "In-sample error, out-of-sample error respectively (k = 8): [0.42857142857142855, 0.456]\n",
      "In-sample error, out-of-sample error respectively (k = 4): [0.42857142857142855, 0.452]\n",
      "In-sample error, out-of-sample error respectively (k = 3): [0.37142857142857144, 0.436]\n",
      "In-sample error, out-of-sample error respectively (k = 2): [0.2, 0.228]\n",
      "In-sample error, out-of-sample error respectively (k = 1): [0.05714285714285714, 0.124]\n",
      "In-sample error, out-of-sample error respectively (k = 0): [0.0, 0.092]\n",
      "In-sample error, out-of-sample error respectively (k = -1): [0.02857142857142857, 0.056]\n",
      "In-sample error, out-of-sample error respectively (k = -2): [0.02857142857142857, 0.084]\n",
      "In-sample error, out-of-sample error respectively (k = -3): [0.02857142857142857, 0.08]\n",
      "In-sample error, out-of-sample error respectively (k = -4): [0.02857142857142857, 0.084]\n",
      "In-sample error, out-of-sample error respectively (k = -8): [0.02857142857142857, 0.084]\n"
     ]
    }
   ],
   "source": [
    "print('In-sample error, out-of-sample error respectively (k = 8): ' + str(doWeightDecayRun(8)))\n",
    "print('In-sample error, out-of-sample error respectively (k = 4): ' + str(doWeightDecayRun(4)))\n",
    "print('In-sample error, out-of-sample error respectively (k = 3): ' + str(doWeightDecayRun(3)))\n",
    "print('In-sample error, out-of-sample error respectively (k = 2): ' + str(doWeightDecayRun(2)))\n",
    "print('In-sample error, out-of-sample error respectively (k = 1): ' + str(doWeightDecayRun(1)))\n",
    "print('In-sample error, out-of-sample error respectively (k = 0): ' + str(doWeightDecayRun(0)))\n",
    "print('In-sample error, out-of-sample error respectively (k = -1): ' + str(doWeightDecayRun(-1)))\n",
    "print('In-sample error, out-of-sample error respectively (k = -2): ' + str(doWeightDecayRun(-2)))\n",
    "print('In-sample error, out-of-sample error respectively (k = -3): ' + str(doWeightDecayRun(-3)))\n",
    "print('In-sample error, out-of-sample error respectively (k = -4): ' + str(doWeightDecayRun(-4)))\n",
    "print('In-sample error, out-of-sample error respectively (k = -8): ' + str(doWeightDecayRun(-8)))"
   ]
  },
  {
   "cell_type": "markdown",
   "metadata": {},
   "source": [
    "We can see that the lowest the out-of-sample error gets to is 0.056 (for k = -1). Therefore the answer to question 6 is B."
   ]
  },
  {
   "cell_type": "code",
   "execution_count": null,
   "metadata": {},
   "outputs": [],
   "source": []
  }
 ],
 "metadata": {
  "kernelspec": {
   "display_name": "Python 3",
   "language": "python",
   "name": "python3"
  },
  "language_info": {
   "codemirror_mode": {
    "name": "ipython",
    "version": 3
   },
   "file_extension": ".py",
   "mimetype": "text/x-python",
   "name": "python",
   "nbconvert_exporter": "python",
   "pygments_lexer": "ipython3",
   "version": "3.7.0"
  }
 },
 "nbformat": 4,
 "nbformat_minor": 2
}
