{
 "cells": [
  {
   "cell_type": "code",
   "execution_count": 271,
   "metadata": {},
   "outputs": [],
   "source": [
    "def isPointPositive(point, line):\n",
    "    result = (point[0] * line[0]) + (point[1] * line[1]) + line[2]\n",
    "    if result == 0:\n",
    "        return 3\n",
    "    elif result > 0:\n",
    "        return True\n",
    "    else:\n",
    "        return False\n",
    "\n",
    "def doRun(NUMPOINTS):\n",
    "    centerpt = [random.uniform(-1,1), random.uniform(-1,1)]\n",
    "    otherpt = [random.uniform(-1,1), random.uniform(-1,1)]\n",
    "\n",
    "    points = []\n",
    "    \n",
    "    for a in range(NUMPOINTS):\n",
    "        points.append([random.uniform(-1,1), random.uniform(-1,1)])\n",
    "\n",
    "    linevect = [otherpt[0] - centerpt[0], otherpt[1] - centerpt[1], 0]\n",
    "    origlinevect = [linevect[0], linevect[1], 0]\n",
    "\n",
    "    for point in points:\n",
    "        if point[1] > (otherpt[1]-centerpt[1])/(otherpt[0]-centerpt[0])*(point[0]-centerpt[0]):\n",
    "            point.append(1)\n",
    "        else:\n",
    "            point.append(-1)\n",
    "\n",
    "    linevect = [0,0,0]\n",
    "    counter = 0\n",
    "    for a in range(1000):\n",
    "        counter += 1\n",
    "        misclassified = []\n",
    "        for point in points:\n",
    "            score = isPointPositive(point, linevect)\n",
    "            if score == 3:\n",
    "                misclassified.append(point)\n",
    "            elif score:\n",
    "                if point[2] == -1:\n",
    "                    misclassified.append(point)\n",
    "            elif not score:\n",
    "                if point[2] == 1:\n",
    "                    misclassified.append(point)\n",
    "            else:\n",
    "                misclassified.append(point)\n",
    "\n",
    "        #print(\"Iteration number \" + str(counter))\n",
    "        #print(\"Number of misclassified points: \" + str(len(misclassified)))\n",
    "\n",
    "        if len(misclassified) == 0:\n",
    "            break\n",
    "\n",
    "        targetpoint = random.choice(misclassified)\n",
    "        \n",
    "        linevect[0] += targetpoint[2]*targetpoint[0]\n",
    "        linevect[1] += targetpoint[2]*targetpoint[1]\n",
    "        linevect[2] += targetpoint[2]\n",
    "\n",
    "    #print(counter)\n",
    "\n",
    "    wrongcount = 0\n",
    "    for a in range(10000):\n",
    "        point1 = [random.uniform(-1,1), random.uniform(-1,1)]\n",
    "        if point1[1] > (otherpt[1]-centerpt[1])/(otherpt[0]-centerpt[0])*(point1[0]-centerpt[0]):\n",
    "            point1.append(1)\n",
    "        else:\n",
    "            point1.append(-1)\n",
    "        score = isPointPositive(point1, linevect)\n",
    "        if score == True and point1[2] == -1:\n",
    "            wrongcount+=1\n",
    "        elif score == False and point1[2] == 1:\n",
    "            wrongcount+=1\n",
    "\n",
    "    #print(wrongcount/10000.0)\n",
    "    return [counter, wrongcount/10000.0]"
   ]
  },
  {
   "cell_type": "code",
   "execution_count": 272,
   "metadata": {},
   "outputs": [
    {
     "name": "stdout",
     "output_type": "stream",
     "text": [
      "Average Count (N = 10): 10.70299999999999\n",
      "Average Wrong Count (N = 10): 0.10871729999999986\n",
      "Average Count (N = 100): 104.01100000000008\n",
      "Average Wrong Count (N = 100): 0.013603\n"
     ]
    }
   ],
   "source": [
    "avgCount = 0\n",
    "avgWrongCount = 0\n",
    "\n",
    "#Tests for 7 and 8\n",
    "for a in range(1000):\n",
    "    res = doRun(10)\n",
    "    avgCount += (res[0]/1000.0)\n",
    "    avgWrongCount += (res[1]/1000.0)\n",
    "\n",
    "print(\"Average Count (N = 10): \" + str(avgCount))\n",
    "print(\"Average Wrong Count (N = 10): \" + str(avgWrongCount))\n",
    "\n",
    "avgCount = 0\n",
    "avgWrongCount = 0\n",
    "\n",
    "#Tests for 9 and 10\n",
    "for a in range(1000):\n",
    "    res = doRun(100)\n",
    "    avgCount += (res[0]/1000.0)\n",
    "    avgWrongCount += (res[1]/1000.0)\n",
    "\n",
    "print(\"Average Count (N = 100): \" + str(avgCount))\n",
    "print(\"Average Wrong Count (N = 100): \" + str(avgWrongCount))"
   ]
  },
  {
   "cell_type": "markdown",
   "metadata": {},
   "source": [
    "Therefore the answers to 7-10 are:\n",
    "7. B\n",
    "8. C\n",
    "9. B\n",
    "10. B"
   ]
  },
  {
   "cell_type": "code",
   "execution_count": 1,
   "metadata": {},
   "outputs": [],
   "source": [
    "import numpy"
   ]
  },
  {
   "cell_type": "code",
   "execution_count": null,
   "metadata": {},
   "outputs": [],
   "source": []
  }
 ],
 "metadata": {
  "kernelspec": {
   "display_name": "Python 3",
   "language": "python",
   "name": "python3"
  },
  "language_info": {
   "codemirror_mode": {
    "name": "ipython",
    "version": 3
   },
   "file_extension": ".py",
   "mimetype": "text/x-python",
   "name": "python",
   "nbconvert_exporter": "python",
   "pygments_lexer": "ipython3",
   "version": "3.7.0"
  }
 },
 "nbformat": 4,
 "nbformat_minor": 2
}
