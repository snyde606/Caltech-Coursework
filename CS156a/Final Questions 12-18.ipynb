{
 "cells": [
  {
   "cell_type": "code",
   "execution_count": 2,
   "metadata": {},
   "outputs": [],
   "source": [
    "from sklearn import svm\n",
    "import random\n",
    "import numpy\n",
    "\n",
    "def formatOneToOne2(points, digit1, digit2):\n",
    "    formattedInputs = []\n",
    "    formattedOutputs = []\n",
    "    \n",
    "    for point in points:\n",
    "        if point[0] == digit1:\n",
    "            formattedInputs.append([point[1], point[2]])\n",
    "            formattedOutputs.append(1)\n",
    "        elif point[0] == digit2:\n",
    "            formattedInputs.append([point[1], point[2]])\n",
    "            formattedOutputs.append(-1)\n",
    "    \n",
    "    return [formattedInputs, formattedOutputs]\n",
    "\n",
    "def formatOneToOne(points, digit1, digit2):\n",
    "    formatted = []\n",
    "    \n",
    "    for point in points:\n",
    "        if point[0] == digit1:\n",
    "            formatted.append([point[1], point[2], 1])\n",
    "        elif point[0] == digit2:\n",
    "            formatted.append([point[1], point[2], -1])\n",
    "    \n",
    "    return formatted\n",
    "\n",
    "def formatOneToMany2(points, digit):\n",
    "    formattedInputs = []\n",
    "    formattedOutputs = []\n",
    "    \n",
    "    for point in points:\n",
    "        if point[0] == digit:\n",
    "            formattedInputs.append([point[1], point[2]])\n",
    "            formattedOutputs.append(1)\n",
    "        else:\n",
    "            formattedInputs.append([point[1], point[2]])\n",
    "            formattedOutputs.append(-1)\n",
    "    \n",
    "    return [formattedInputs, formattedOutputs]\n",
    "\n",
    "def formatOneToMany(points, digit):\n",
    "    formatted = []\n",
    "    \n",
    "    for point in points:\n",
    "        if point[0] == digit:\n",
    "            formatted.append([point[1], point[2], 1])\n",
    "        else:\n",
    "            formatted.append([point[1], point[2], -1])\n",
    "    \n",
    "    return formatted;"
   ]
  },
  {
   "cell_type": "code",
   "execution_count": 1,
   "metadata": {},
   "outputs": [],
   "source": [
    "# PROBLEM 12\n",
    "\n",
    "def getSoftMarginSVMVectorNumber(trainInputs, trainOutputs, c, Q):\n",
    "    tool = svm.SVC(kernel='poly', C=c, degree=Q, gamma=1, coef0=1)\n",
    "    tool.fit(trainInputs, trainOutputs)\n",
    "    return len(tool.support_)"
   ]
  },
  {
   "cell_type": "code",
   "execution_count": 3,
   "metadata": {},
   "outputs": [
    {
     "name": "stdout",
     "output_type": "stream",
     "text": [
      "Number of support vectors: \n",
      "5\n"
     ]
    }
   ],
   "source": [
    "# PROBLEM 12\n",
    "\n",
    "#GET DATA\n",
    "trainInputs = [[1,0],[0,1],[0,-1],[-1,0],[0,2],[0,-2],[-2,0]]\n",
    "trainOutputs = [-1,-1,-1,1,1,1,1]\n",
    "\n",
    "print('Number of support vectors: ')\n",
    "print(getSoftMarginSVMVectorNumber(trainInputs, trainOutputs, float('inf'), 2))"
   ]
  },
  {
   "cell_type": "markdown",
   "metadata": {},
   "source": [
    "The number of support vectors is between 4 and 5, so the answer to question 12 is C."
   ]
  },
  {
   "cell_type": "code",
   "execution_count": 28,
   "metadata": {},
   "outputs": [],
   "source": [
    "# PROBLEMS 13-18\n",
    "import random\n",
    "import numpy\n",
    "import sklearn\n",
    "from sklearn.cluster import KMeans\n",
    "\n",
    "def createLabeledPoints(numPoints):\n",
    "    labeled = []\n",
    "    for i in range(numPoints):\n",
    "        x1 = random.uniform(-1,1)\n",
    "        x2 = random.uniform(-1,1)\n",
    "        out = numpy.sign(x2-x1+0.25*numpy.sin(numpy.pi*x1))\n",
    "        labeled.append([x1,x2,out])\n",
    "    return labeled\n",
    "\n",
    "def doRBFKernel(trainInputs, trainOutputs, testInputs, testOutputs, gammy):\n",
    "    tool = svm.SVC(kernel='rbf', C=float('inf'), gamma=gammy)\n",
    "    tool.fit(trainInputs, trainOutputs)\n",
    "    trainErrorCount = 0\n",
    "    testErrorCount = 0\n",
    "    for i in range(len(trainInputs)):\n",
    "        if tool.predict([trainInputs[i]]) != trainOutputs[i]:\n",
    "            trainErrorCount += 1\n",
    "    for i in range(len(testInputs)):\n",
    "        if tool.predict([testInputs[i]]) != testOutputs[i]:\n",
    "            testErrorCount += 1\n",
    "    return [trainErrorCount/len(trainInputs), testErrorCount/len(testInputs)]\n",
    "\n",
    "def doRBFRegular(trainInputs, trainOutputs, testInputs, testOutputs, gammy, K):\n",
    "    #GET CLUSTERS\n",
    "    cloister = KMeans(n_clusters=K).fit(trainInputs)\n",
    "    centers = cloister.cluster_centers_\n",
    "    #GET PHI MATRIX FROM TRAINING INPUTS\n",
    "    phi = []\n",
    "    for point in trainInputs:\n",
    "        row = []\n",
    "        for center in centers:\n",
    "            row.append(numpy.exp((-gammy)*(numpy.linalg.norm(point-center)**2)))\n",
    "        phi.append(row)\n",
    "    #CALCULATE WEIGHTS\n",
    "    intermediary = numpy.linalg.inv(numpy.matmul(numpy.transpose(phi),phi))\n",
    "    w = numpy.matmul(numpy.matmul(intermediary, numpy.transpose(phi)),trainOutputs)\n",
    "    #GET PHI_2 MATRIX FROM TEST INPUTS\n",
    "    phi_2 = []\n",
    "    for point in testInputs:\n",
    "        row = []\n",
    "        for center in centers:\n",
    "            row.append(numpy.exp((-gammy)*(numpy.linalg.norm(point-center)**2)))\n",
    "        phi_2.append(row)\n",
    "    #CALCULATE E_IN\n",
    "    wrongcount = 0\n",
    "    for index in range(len(phi)):\n",
    "        if numpy.sign(numpy.dot(phi[index],w)) != trainOutputs[index]:\n",
    "            wrongcount += 1\n",
    "    e_in = wrongcount / len(phi)\n",
    "    #CALCULATE E_OUT\n",
    "    wrongcount = 0\n",
    "    for index in range(len(phi_2)):\n",
    "        if numpy.sign(numpy.dot(phi_2[index],w)) != testOutputs[index]:\n",
    "            wrongcount += 1\n",
    "    e_out = wrongcount / len(phi_2)\n",
    "    \n",
    "    return [e_in, e_out]"
   ]
  },
  {
   "cell_type": "code",
   "execution_count": 22,
   "metadata": {},
   "outputs": [
    {
     "name": "stdout",
     "output_type": "stream",
     "text": [
      "0.0\n"
     ]
    }
   ],
   "source": [
    "# PROBLEM 13\n",
    "RUNS = 1000\n",
    "\n",
    "notsepcount = 0\n",
    "for i in range(RUNS):\n",
    "    points = createLabeledPoints(100)\n",
    "    points_in = []\n",
    "    points_out = []\n",
    "    for point in points:\n",
    "        points_in.append([point[0], point[1]])\n",
    "        points_out.append(point[2])\n",
    "    result = doRBFKernel(points_in, points_out, [[0,0]], [1], 1.5)\n",
    "    if result[0] != 0:\n",
    "        notsepcount += 1\n",
    "notsepprop = notsepcount/RUNS\n",
    "print(notsepprop)"
   ]
  },
  {
   "cell_type": "markdown",
   "metadata": {},
   "source": [
    "We can see that E_in is nonzero 0% of the time when gamma = 1.5, therefore the answer to question 13 is A."
   ]
  },
  {
   "cell_type": "code",
   "execution_count": 30,
   "metadata": {},
   "outputs": [
    {
     "name": "stdout",
     "output_type": "stream",
     "text": [
      "0.91\n"
     ]
    }
   ],
   "source": [
    "# PROBLEM 14\n",
    "RUNS = 500\n",
    "\n",
    "kerbettercount = 0\n",
    "for i in range(RUNS):\n",
    "    points = createLabeledPoints(100)\n",
    "    points_in = []\n",
    "    points_out = []\n",
    "    for point in points:\n",
    "        points_in.append([point[0], point[1]])\n",
    "        points_out.append(point[2])\n",
    "    OUT_points = createLabeledPoints(1000)\n",
    "    OUT_points_in = []\n",
    "    OUT_points_out = []\n",
    "    for point in OUT_points:\n",
    "        OUT_points_in.append([point[0], point[1]])\n",
    "        OUT_points_out.append(point[2])\n",
    "    result_ker = doRBFKernel(points_in, points_out, OUT_points_in, OUT_points_out, 1.5)\n",
    "    OUT_points = createLabeledPoints(1000)\n",
    "    OUT_points_in = []\n",
    "    OUT_points_out = []\n",
    "    for point in OUT_points:\n",
    "        OUT_points_in.append([point[0], point[1]])\n",
    "        OUT_points_out.append(point[2])\n",
    "    result_reg = doRBFRegular(points_in, points_out, OUT_points_in, OUT_points_out, 1.5, 9)\n",
    "    if result_ker[1] < result_reg[1]:\n",
    "        kerbettercount += 1\n",
    "    \n",
    "kerbetterprop = kerbettercount/500\n",
    "print(kerbetterprop)"
   ]
  },
  {
   "cell_type": "markdown",
   "metadata": {},
   "source": [
    "We have that the kernel form beats the regular form in terms of E_out over 75% of the time, so the answer to question 14 is E."
   ]
  },
  {
   "cell_type": "code",
   "execution_count": 31,
   "metadata": {},
   "outputs": [
    {
     "name": "stdout",
     "output_type": "stream",
     "text": [
      "0.76\n"
     ]
    }
   ],
   "source": [
    "# PROBLEM 15\n",
    "RUNS = 500\n",
    "\n",
    "kerbettercount = 0\n",
    "for i in range(RUNS):\n",
    "    points = createLabeledPoints(100)\n",
    "    points_in = []\n",
    "    points_out = []\n",
    "    for point in points:\n",
    "        points_in.append([point[0], point[1]])\n",
    "        points_out.append(point[2])\n",
    "    OUT_points = createLabeledPoints(1000)\n",
    "    OUT_points_in = []\n",
    "    OUT_points_out = []\n",
    "    for point in OUT_points:\n",
    "        OUT_points_in.append([point[0], point[1]])\n",
    "        OUT_points_out.append(point[2])\n",
    "    result_ker = doRBFKernel(points_in, points_out, OUT_points_in, OUT_points_out, 1.5)\n",
    "    OUT_points = createLabeledPoints(1000)\n",
    "    OUT_points_in = []\n",
    "    OUT_points_out = []\n",
    "    for point in OUT_points:\n",
    "        OUT_points_in.append([point[0], point[1]])\n",
    "        OUT_points_out.append(point[2])\n",
    "    result_reg = doRBFRegular(points_in, points_out, OUT_points_in, OUT_points_out, 1.5, 12)\n",
    "    if result_ker[1] < result_reg[1]:\n",
    "        kerbettercount += 1\n",
    "    \n",
    "kerbetterprop = kerbettercount/500\n",
    "print(kerbetterprop)"
   ]
  },
  {
   "cell_type": "markdown",
   "metadata": {},
   "source": [
    "We have that the kernel beats the regular form between 60% and 90% of the time, so the answer to question 15 is D."
   ]
  },
  {
   "cell_type": "code",
   "execution_count": 33,
   "metadata": {},
   "outputs": [
    {
     "name": "stdout",
     "output_type": "stream",
     "text": [
      "[66, 29, 29, 280, 4]\n"
     ]
    }
   ],
   "source": [
    "# PROBLEM 16\n",
    "RUNS = 500\n",
    "\n",
    "counts = [0,0,0,0,0]\n",
    "for i in range(RUNS):\n",
    "    points = createLabeledPoints(100)\n",
    "    points_in = []\n",
    "    points_out = []\n",
    "    for point in points:\n",
    "        points_in.append([point[0], point[1]])\n",
    "        points_out.append(point[2])\n",
    "    OUT_points = createLabeledPoints(1000)\n",
    "    OUT_points_in = []\n",
    "    OUT_points_out = []\n",
    "    for point in OUT_points:\n",
    "        OUT_points_in.append([point[0], point[1]])\n",
    "        OUT_points_out.append(point[2])\n",
    "    result_reg_9 = doRBFRegular(points_in, points_out, OUT_points_in, OUT_points_out, 1.5, 9)\n",
    "    OUT_points = createLabeledPoints(1000)\n",
    "    OUT_points_in = []\n",
    "    OUT_points_out = []\n",
    "    for point in OUT_points:\n",
    "        OUT_points_in.append([point[0], point[1]])\n",
    "        OUT_points_out.append(point[2])\n",
    "    result_reg_12 = doRBFRegular(points_in, points_out, OUT_points_in, OUT_points_out, 1.5, 12)\n",
    "    \n",
    "    if result_reg_9[0] > result_reg_12[0] and result_reg_9[1] < result_reg_12[1]:\n",
    "        counts[0] += 1\n",
    "    elif result_reg_9[0] < result_reg_12[0] and result_reg_9[1] > result_reg_12[1]:\n",
    "        counts[1] += 1\n",
    "    elif result_reg_9[0] < result_reg_12[0] and result_reg_9[1] < result_reg_12[1]:\n",
    "        counts[2] += 1\n",
    "    elif result_reg_9[0] > result_reg_12[0] and result_reg_9[1] > result_reg_12[1]:\n",
    "        counts[3] += 1\n",
    "    elif result_reg_9[0] == result_reg_12[0] and result_reg_9[1] == result_reg_12[1]:\n",
    "        counts[4] += 1\n",
    "        \n",
    "\n",
    "print(counts)"
   ]
  },
  {
   "cell_type": "markdown",
   "metadata": {},
   "source": [
    "We can see that most frequently, both E_in and E_out go down. Therefore the answer to question 16 is D."
   ]
  },
  {
   "cell_type": "code",
   "execution_count": 34,
   "metadata": {},
   "outputs": [
    {
     "name": "stdout",
     "output_type": "stream",
     "text": [
      "[25, 53, 149, 59, 4]\n"
     ]
    }
   ],
   "source": [
    "# PROBLEM 17\n",
    "RUNS = 500\n",
    "\n",
    "counts = [0,0,0,0,0]\n",
    "for i in range(RUNS):\n",
    "    points = createLabeledPoints(100)\n",
    "    points_in = []\n",
    "    points_out = []\n",
    "    for point in points:\n",
    "        points_in.append([point[0], point[1]])\n",
    "        points_out.append(point[2])\n",
    "    OUT_points = createLabeledPoints(1000)\n",
    "    OUT_points_in = []\n",
    "    OUT_points_out = []\n",
    "    for point in OUT_points:\n",
    "        OUT_points_in.append([point[0], point[1]])\n",
    "        OUT_points_out.append(point[2])\n",
    "    result_reg_9 = doRBFRegular(points_in, points_out, OUT_points_in, OUT_points_out, 1.5, 9)\n",
    "    OUT_points = createLabeledPoints(1000)\n",
    "    OUT_points_in = []\n",
    "    OUT_points_out = []\n",
    "    for point in OUT_points:\n",
    "        OUT_points_in.append([point[0], point[1]])\n",
    "        OUT_points_out.append(point[2])\n",
    "    result_reg_12 = doRBFRegular(points_in, points_out, OUT_points_in, OUT_points_out, 2, 9)\n",
    "    \n",
    "    if result_reg_9[0] > result_reg_12[0] and result_reg_9[1] < result_reg_12[1]:\n",
    "        counts[0] += 1\n",
    "    elif result_reg_9[0] < result_reg_12[0] and result_reg_9[1] > result_reg_12[1]:\n",
    "        counts[1] += 1\n",
    "    elif result_reg_9[0] < result_reg_12[0] and result_reg_9[1] < result_reg_12[1]:\n",
    "        counts[2] += 1\n",
    "    elif result_reg_9[0] > result_reg_12[0] and result_reg_9[1] > result_reg_12[1]:\n",
    "        counts[3] += 1\n",
    "    elif result_reg_9[0] == result_reg_12[0] and result_reg_9[1] == result_reg_12[1]:\n",
    "        counts[4] += 1\n",
    "        \n",
    "\n",
    "print(counts)"
   ]
  },
  {
   "cell_type": "markdown",
   "metadata": {},
   "source": [
    "We can see that most frequently, both E_in and E_out go up. Therefore the answer to question 17 is C."
   ]
  },
  {
   "cell_type": "code",
   "execution_count": 36,
   "metadata": {},
   "outputs": [
    {
     "name": "stdout",
     "output_type": "stream",
     "text": [
      "0.026\n"
     ]
    }
   ],
   "source": [
    "# PROBLEM 18\n",
    "RUNS = 500\n",
    "\n",
    "count = 0\n",
    "for i in range(RUNS):\n",
    "    points = createLabeledPoints(100)\n",
    "    points_in = []\n",
    "    points_out = []\n",
    "    for point in points:\n",
    "        points_in.append([point[0], point[1]])\n",
    "        points_out.append(point[2])\n",
    "    result = doRBFRegular(points_in, points_out, [[0,0]], [1], 1.5, 9)\n",
    "    \n",
    "    if result[0] == 0:\n",
    "        count += 1\n",
    "        \n",
    "\n",
    "print(count/RUNS)"
   ]
  },
  {
   "cell_type": "markdown",
   "metadata": {},
   "source": [
    "We can see that the percentage of time that regular RBF achieves E_in=0 with K=9 and gamma=1.5 is less than 10%. Therefore the answer to question 18 is A."
   ]
  },
  {
   "cell_type": "code",
   "execution_count": null,
   "metadata": {},
   "outputs": [],
   "source": []
  }
 ],
 "metadata": {
  "kernelspec": {
   "display_name": "Python 3",
   "language": "python",
   "name": "python3"
  },
  "language_info": {
   "codemirror_mode": {
    "name": "ipython",
    "version": 3
   },
   "file_extension": ".py",
   "mimetype": "text/x-python",
   "name": "python",
   "nbconvert_exporter": "python",
   "pygments_lexer": "ipython3",
   "version": "3.7.0"
  }
 },
 "nbformat": 4,
 "nbformat_minor": 2
}
