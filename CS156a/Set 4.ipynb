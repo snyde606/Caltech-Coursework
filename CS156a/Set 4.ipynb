{
 "cells": [
  {
   "cell_type": "code",
   "execution_count": 10,
   "metadata": {},
   "outputs": [
    {
     "name": "stdout",
     "output_type": "stream",
     "text": [
      "Average a: 1.4373339896406343\n"
     ]
    }
   ],
   "source": [
    "# PROBLEM 4\n",
    "\n",
    "import random;\n",
    "import numpy;\n",
    "\n",
    "totalA = 0;\n",
    "for a in range(10000):\n",
    "    x1 = random.uniform(-1,1);\n",
    "    x2 = random.uniform(-1,1);\n",
    "    totalA += (x1 * numpy.sin(numpy.pi * x1) + x2 * numpy.sin(numpy.pi * x2))/(x1 ** 2 + x2 ** 2);\n",
    "\n",
    "totalA /= 10000;\n",
    "\n",
    "print(\"Average a: \" + str(totalA));"
   ]
  },
  {
   "cell_type": "code",
   "execution_count": 9,
   "metadata": {},
   "outputs": [
    {
     "name": "stdout",
     "output_type": "stream",
     "text": [
      "Variance: 0.2368655962220246\n"
     ]
    }
   ],
   "source": [
    "# PROBLEM 6\n",
    "\n",
    "import random;\n",
    "import numpy;\n",
    "\n",
    "totalVar = 0;\n",
    "\n",
    "for i in range(1000):\n",
    "    totalA = 0;\n",
    "    for a in range(1000):\n",
    "        x1 = random.uniform(-1,1);\n",
    "        x2 = random.uniform(-1,1);\n",
    "        totalA += (x1 * numpy.sin(numpy.pi * x1) + x2 * numpy.sin(numpy.pi * x2))/(x1 ** 2 + x2 ** 2);\n",
    "    totalA /= 1000;\n",
    "    for a in range(1000):\n",
    "        x1 = random.uniform(-1,1);\n",
    "        totalVar += (1.425*x1 - totalA * x1) ** 2\n",
    "\n",
    "totalVar /= 1000;\n",
    "print(\"Variance: \" + str(totalVar));"
   ]
  },
  {
   "cell_type": "code",
   "execution_count": 14,
   "metadata": {},
   "outputs": [
    {
     "name": "stdout",
     "output_type": "stream",
     "text": [
      "-0.004718425405849692\n",
      "Variance (7a) : 0.2622828014779997\n"
     ]
    }
   ],
   "source": [
    "# PROBLEM 7a\n",
    "\n",
    "import random;\n",
    "import numpy;\n",
    "\n",
    "totalA1 = 0;\n",
    "for a in range(10000):\n",
    "    x1 = random.uniform(-1,1);\n",
    "    x2 = random.uniform(-1,1);\n",
    "    totalA1 += (numpy.sin(numpy.pi * x1) + numpy.sin(numpy.pi * x2)) / 2;\n",
    "\n",
    "totalA1 /= 10000;\n",
    "print(totalA1);\n",
    "\n",
    "totalVar = 0;\n",
    "\n",
    "for i in range(1000):\n",
    "    totalA = 0;\n",
    "    for a in range(1000):\n",
    "        x1 = random.uniform(-1,1);\n",
    "        x2 = random.uniform(-1,1);\n",
    "        totalA += (numpy.sin(numpy.pi * x1) + numpy.sin(numpy.pi * x2)) / 2;\n",
    "    totalA /= 1000;\n",
    "    for a in range(1000):\n",
    "        x1 = random.uniform(-1,1);\n",
    "        totalVar += (totalA1 - totalA) ** 2\n",
    "\n",
    "totalVar /= 1000;\n",
    "print(\"Variance (7a) : \" + str(totalVar));"
   ]
  },
  {
   "cell_type": "code",
   "execution_count": 15,
   "metadata": {},
   "outputs": [
    {
     "name": "stdout",
     "output_type": "stream",
     "text": [
      "0.006986139755839163\n",
      "Variance (7d) : 0.08901902735967883\n"
     ]
    }
   ],
   "source": [
    "# PROBLEM 7d\n",
    "\n",
    "import random;\n",
    "import numpy;\n",
    "\n",
    "totalA1 = 0;\n",
    "for a in range(10000):\n",
    "    x1 = random.uniform(-1,1);\n",
    "    x2 = random.uniform(-1,1);\n",
    "    totalA1 += (x1 ** 2 * numpy.sin(numpy.pi * x1) + x2 ** 2 * numpy.sin(numpy.pi * x2)) / (x1 ** 2 + x2 ** 2);\n",
    "\n",
    "totalA1 /= 10000;\n",
    "print(totalA1);\n",
    "\n",
    "totalVar = 0;\n",
    "\n",
    "for i in range(1000):\n",
    "    totalA = 0;\n",
    "    for a in range(1000):\n",
    "        x1 = random.uniform(-1,1);\n",
    "        x2 = random.uniform(-1,1);\n",
    "        totalA += (x1 ** 2 * numpy.sin(numpy.pi * x1) + x2 ** 2 * numpy.sin(numpy.pi * x2)) / (x1 ** 2 + x2 ** 2);\n",
    "    totalA /= 1000;\n",
    "    for a in range(1000):\n",
    "        x1 = random.uniform(-1,1);\n",
    "        totalVar += (totalA1 * (x1 ** 2) - totalA * x1 ** 2) ** 2\n",
    "\n",
    "totalVar /= 1000;\n",
    "print(\"Variance (7d) : \" + str(totalVar));"
   ]
  },
  {
   "cell_type": "code",
   "execution_count": null,
   "metadata": {},
   "outputs": [],
   "source": []
  }
 ],
 "metadata": {
  "kernelspec": {
   "display_name": "Python 3",
   "language": "python",
   "name": "python3"
  },
  "language_info": {
   "codemirror_mode": {
    "name": "ipython",
    "version": 3
   },
   "file_extension": ".py",
   "mimetype": "text/x-python",
   "name": "python",
   "nbconvert_exporter": "python",
   "pygments_lexer": "ipython3",
   "version": "3.7.0"
  }
 },
 "nbformat": 4,
 "nbformat_minor": 2
}
