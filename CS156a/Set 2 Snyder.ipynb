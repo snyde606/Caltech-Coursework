{
 "cells": [
  {
   "cell_type": "code",
   "execution_count": 4,
   "metadata": {},
   "outputs": [],
   "source": [
    "import random\n",
    "def flipCoin():\n",
    "    temp = random.randint(0,1)\n",
    "    return temp == 0"
   ]
  },
  {
   "cell_type": "code",
   "execution_count": 40,
   "metadata": {},
   "outputs": [],
   "source": [
    "def runCoins(numOfCoins):\n",
    "    randCoin = random.randint(0,999)\n",
    "    v1 = 0\n",
    "    vrand = 0\n",
    "    vmin = 1\n",
    "    for a in range(int(numOfCoins)):\n",
    "        minchecker = 0\n",
    "        for b in range(10):\n",
    "            if flipCoin():\n",
    "                if a == 0:\n",
    "                    v1 += 1\n",
    "                if a == randCoin:\n",
    "                    vrand += 1\n",
    "                minchecker += 1\n",
    "        if a == 0:\n",
    "            v1 /= 10\n",
    "        if a == randCoin:\n",
    "            vrand /= 10.0\n",
    "        minchecker /= 10.0\n",
    "        if minchecker < vmin:\n",
    "            vmin = minchecker\n",
    "    return v1, vrand, vmin            "
   ]
  },
  {
   "cell_type": "code",
   "execution_count": 43,
   "metadata": {},
   "outputs": [
    {
     "name": "stdout",
     "output_type": "stream",
     "text": [
      "Average first coin: 0.5002420000000081\n",
      "Average random coin: 0.4993450000000041\n",
      "Average min coin: 0.0376639999999767\n"
     ]
    }
   ],
   "source": [
    "totalTests = 100000\n",
    "tot1 = 0\n",
    "totrand = 0\n",
    "totmin = 0\n",
    "for a in range(int(totalTests)):\n",
    "    result = runCoins(1000.0)\n",
    "    tot1 += result[0]\n",
    "    totrand += result[1]\n",
    "    totmin += result[2]\n",
    "tot1 /= totalTests\n",
    "totrand /= totalTests\n",
    "totmin /= totalTests\n",
    "\n",
    "print(\"Average first coin: \" + str(tot1))\n",
    "print(\"Average random coin: \" + str(totrand))\n",
    "print(\"Average min coin: \" + str(totmin))"
   ]
  },
  {
   "cell_type": "markdown",
   "metadata": {},
   "source": [
    "Justification for #1 just above. Vmin is 0.037664 so clearly vmin is closest to 0.01 (B)."
   ]
  },
  {
   "cell_type": "code",
   "execution_count": 302,
   "metadata": {},
   "outputs": [],
   "source": [
    "import random\n",
    "from scipy import linalg\n",
    "import numpy\n",
    "\n",
    "def doLinRegRun(NUMPOINTS):\n",
    "    centerpt = [random.uniform(-1,1), random.uniform(-1,1)]\n",
    "    otherpt = [random.uniform(-1,1), random.uniform(-1,1)]\n",
    "\n",
    "    points = []\n",
    "    \n",
    "    for a in range(int(NUMPOINTS)):\n",
    "        points.append([random.uniform(-1,1), random.uniform(-1,1)])\n",
    "\n",
    "    for point in points:\n",
    "        if point[1] > (otherpt[1]-centerpt[1])/(otherpt[0]-centerpt[0])*(point[0]-centerpt[0]):\n",
    "            point.append(1)\n",
    "        else:\n",
    "            point.append(-1)\n",
    "\n",
    "    #APPLY ALGORITHM\n",
    "    xmat = []\n",
    "    ymat = []\n",
    "    for point in points:\n",
    "        xmat.append([point[0], point[1]])\n",
    "        ymat.append(point[2])\n",
    "    xmat = numpy.asarray(xmat)\n",
    "    ymat = numpy.asarray(ymat)\n",
    "    #ymat = numpy.matrix.transpose(ymat)\n",
    "    #xmat = numpy.matrix.transpose(xmat)\n",
    "    #print(xmat)\n",
    "    #print(ymat)\n",
    "    \n",
    "    #Compute pseudo inverse\n",
    "    pseudoinverse = linalg.pinv(xmat)\n",
    "    #print(pseudoinverse)\n",
    "    weight = pseudoinverse.dot(ymat)\n",
    "    #print(weight)\n",
    "    \n",
    "    w0 = numpy.mean(ymat)\n",
    "    \n",
    "    weight = numpy.asarray([weight[0], weight[1], w0])\n",
    "    \n",
    "    wrongcount = 0\n",
    "    for point in points:\n",
    "        if numpy.sign(weight[2] + weight[0]*point[0] + weight[1]*point[1]) != point[2]:\n",
    "            wrongcount += 1\n",
    "    wrongcount /= NUMPOINTS\n",
    "            \n",
    "    return [weight, [centerpt, otherpt], points, wrongcount]"
   ]
  },
  {
   "cell_type": "code",
   "execution_count": 303,
   "metadata": {},
   "outputs": [
    {
     "name": "stdout",
     "output_type": "stream",
     "text": [
      "E_in average: 0.04045000000000006\n",
      "E_out average: 0.049045999999999985\n"
     ]
    }
   ],
   "source": [
    "NUMTESTS = 1000.0\n",
    "\n",
    "#Testing for question 5 and 6\n",
    "\n",
    "eInAvg = 0\n",
    "eOutAvg = 0\n",
    "\n",
    "for a in range(int(NUMTESTS)):\n",
    "    mistake = 0\n",
    "    result = doLinRegRun(100.0)\n",
    "    for a in range(1000):\n",
    "        randomPoint = [random.uniform(-1,1), random.uniform(-1,1)]\n",
    "        if randomPoint[1] > (result[1][1][1]-result[1][0][1])/(result[1][1][0]-result[1][0][0])*\\\n",
    "        (randomPoint[0]-result[1][0][0]):\n",
    "            if result[0][0]*randomPoint[0] + result[0][1]*randomPoint[1] + result[0][2] < 0:\n",
    "                mistake += 1\n",
    "        else:\n",
    "            if result[0][0]*randomPoint[0] + result[0][1]*randomPoint[1] + result[0][2] > 0:\n",
    "                mistake += 1    \n",
    "    eOutAvg += mistake/1000.0\n",
    "    eInAvg += result[3]\n",
    "    \n",
    "eInAvg /= NUMTESTS\n",
    "eOutAvg /= NUMTESTS\n",
    "print(\"E_in average: \" + str(eInAvg))\n",
    "print(\"E_out average: \" + str(eOutAvg))"
   ]
  },
  {
   "cell_type": "markdown",
   "metadata": {},
   "source": [
    "The value of E_in is closest to 0.01, so the answer to question 5 is C."
   ]
  },
  {
   "cell_type": "markdown",
   "metadata": {},
   "source": [
    "The value of E_out is closest to 0.01, so the answer to question 6 is C."
   ]
  },
  {
   "cell_type": "code",
   "execution_count": 304,
   "metadata": {},
   "outputs": [],
   "source": [
    "def isPointPositive(point, line):\n",
    "    result = (point[0] * line[0]) + (point[1] * line[1]) + line[2]\n",
    "    if result == 0:\n",
    "        return 3\n",
    "    elif result > 0:\n",
    "        return True\n",
    "    else:\n",
    "        return False\n",
    "    \n",
    "def doPLARun(points, initWeight, line):\n",
    "    #centerpt = [random.uniform(-1,1), random.uniform(-1,1)]\n",
    "    #otherpt = [random.uniform(-1,1), random.uniform(-1,1)]\n",
    "\n",
    "    centerpt = line[0]\n",
    "    otherpt = line[1]\n",
    "    \n",
    "    points = points\n",
    "    \n",
    "    #for a in range(NUMPOINTS):\n",
    "    #    points.append([random.uniform(-1,1), random.uniform(-1,1)])\n",
    "\n",
    "    linevect = initWeight\n",
    "    counter = 0\n",
    "    for a in range(1000):\n",
    "        misclassified = []\n",
    "        for point in points:\n",
    "            score = isPointPositive(point, linevect)\n",
    "            if score == 3:\n",
    "                misclassified.append(point)\n",
    "            elif score:\n",
    "                if point[2] == -1:\n",
    "                    misclassified.append(point)\n",
    "            elif not score:\n",
    "                if point[2] == 1:\n",
    "                    misclassified.append(point)\n",
    "            else:\n",
    "                misclassified.append(point)\n",
    "\n",
    "        #print(\"Iteration number \" + str(counter))\n",
    "        #print(\"Number of misclassified points: \" + str(len(misclassified)))\n",
    "\n",
    "        if len(misclassified) == 0:\n",
    "            break\n",
    "\n",
    "        counter += 1\n",
    "        targetpoint = random.choice(misclassified)\n",
    "        \n",
    "        linevect[0] += targetpoint[2]*targetpoint[0]\n",
    "        linevect[1] += targetpoint[2]*targetpoint[1]\n",
    "        linevect[2] += targetpoint[2]\n",
    "\n",
    "    #print(counter)\n",
    "\n",
    "    wrongcount = 0\n",
    "    for a in range(10000):\n",
    "        point1 = [random.uniform(-1,1), random.uniform(-1,1)]\n",
    "        if point1[1] > (otherpt[1]-centerpt[1])/(otherpt[0]-centerpt[0])*(point1[0]-centerpt[0]):\n",
    "            point1.append(1)\n",
    "        else:\n",
    "            point1.append(-1)\n",
    "        score = isPointPositive(point1, linevect)\n",
    "        if score == True and point1[2] == -1:\n",
    "            wrongcount+=1\n",
    "        elif score == False and point1[2] == 1:\n",
    "            wrongcount+=1\n",
    "\n",
    "    #print(wrongcount/10000.0)\n",
    "    return [counter, wrongcount/10000.0]"
   ]
  },
  {
   "cell_type": "code",
   "execution_count": 306,
   "metadata": {},
   "outputs": [
    {
     "name": "stdout",
     "output_type": "stream",
     "text": [
      "Average iterations: 5.227\n"
     ]
    }
   ],
   "source": [
    "#Testing for problem 7\n",
    "\n",
    "tot = 0\n",
    "for a in range(1000):\n",
    "    result = doRun(10)\n",
    "    res2 = doPLARun(result[2], result[0], result[1])\n",
    "    tot += res2[0]\n",
    "tot /= 1000\n",
    "print(\"Average iterations: \" + str(tot))"
   ]
  },
  {
   "cell_type": "markdown",
   "metadata": {},
   "source": [
    "The average number of iterations is closest to 1 so the answer to question 7 is A."
   ]
  },
  {
   "cell_type": "code",
   "execution_count": 328,
   "metadata": {},
   "outputs": [],
   "source": [
    "import random\n",
    "from scipy import linalg\n",
    "import numpy\n",
    "\n",
    "def doLinRegRun(NUMPOINTS, NOISE):\n",
    "    #GENERATE LINE\n",
    "    centerpt = [random.uniform(-1,1), random.uniform(-1,1)]\n",
    "    otherpt = [random.uniform(-1,1), random.uniform(-1,1)]\n",
    "\n",
    "    #GENERATE POINTS\n",
    "    points = []\n",
    "    for a in range(int(NUMPOINTS)):\n",
    "        points.append([random.uniform(-1,1), random.uniform(-1,1)])\n",
    "        \n",
    "    #LABEL POINTS\n",
    "    for point in points:\n",
    "        point.append(numpy.sign(point[0]**2 + point[1]**2 - 0.6))\n",
    "            \n",
    "    #INSERT NOISE\n",
    "    maxnoises = int(NOISE * NUMPOINTS)\n",
    "    countnoises = 0\n",
    "    for point in points:\n",
    "        if countnoises >= maxnoises:\n",
    "            break\n",
    "        if random.uniform(0,1) < 0.1:\n",
    "            point[2] = -point[2]\n",
    "            countnoises += 1\n",
    "\n",
    "    #APPLY ALGORITHM\n",
    "    xmat = []\n",
    "    ymat = []\n",
    "    for point in points:\n",
    "        xmat.append([point[0], point[1]])\n",
    "        ymat.append(point[2])\n",
    "    xmat = numpy.asarray(xmat)\n",
    "    ymat = numpy.asarray(ymat)\n",
    "    \n",
    "    #Compute pseudo inverse\n",
    "    pseudoinverse = linalg.pinv(xmat)\n",
    "    #print(pseudoinverse)\n",
    "    weight = pseudoinverse.dot(ymat)\n",
    "    #print(weight)\n",
    "    \n",
    "    w0 = numpy.mean(ymat)\n",
    "    \n",
    "    weight = numpy.asarray([weight[0], weight[1], w0])\n",
    "    \n",
    "    wrongcount = 0\n",
    "    for point in points:\n",
    "        if numpy.sign(weight[2] + weight[0]*point[0] + weight[1]*point[1]) != point[2]:\n",
    "            wrongcount += 1\n",
    "    wrongcount /= NUMPOINTS\n",
    "            \n",
    "    return [weight, [centerpt, otherpt], points, wrongcount]"
   ]
  },
  {
   "cell_type": "code",
   "execution_count": 329,
   "metadata": {},
   "outputs": [
    {
     "name": "stdout",
     "output_type": "stream",
     "text": [
      "E_in average: 0.5057119999999996\n"
     ]
    }
   ],
   "source": [
    "NUMTESTS = 1000.0\n",
    "\n",
    "#Testing for question 8\n",
    "\n",
    "eInAvg = 0\n",
    "\n",
    "for a in range(int(NUMTESTS)):\n",
    "    result = doLinRegRun(1000.0, 0.1)\n",
    "    eInAvg += result[3]\n",
    "    \n",
    "eInAvg /= NUMTESTS\n",
    "print(\"E_in average: \" + str(eInAvg))"
   ]
  },
  {
   "cell_type": "markdown",
   "metadata": {},
   "source": [
    "E_in is closest to 0.5 so the answer to question 8 is D."
   ]
  },
  {
   "cell_type": "code",
   "execution_count": 343,
   "metadata": {},
   "outputs": [],
   "source": [
    "import random\n",
    "from scipy import linalg\n",
    "import numpy\n",
    "\n",
    "def doNonLinRegRun(NUMPOINTS, NOISE):\n",
    "    #GENERATE POINTS\n",
    "    points = []\n",
    "    for a in range(int(NUMPOINTS)):\n",
    "        points.append([random.uniform(-1,1), random.uniform(-1,1)])\n",
    "        \n",
    "    #LABEL POINTS\n",
    "    for point in points:\n",
    "        point.append(numpy.sign(point[0]**2 + point[1]**2 - 0.6))\n",
    "            \n",
    "    #TRANSFORM POINTS\n",
    "    newpoints = []\n",
    "    for point in points:\n",
    "        newpoints.append([point[0], point[1], point[0]*point[1], point[0]**2, point[1]**2, point[2]])\n",
    "    points = newpoints\n",
    "            \n",
    "    #INSERT NOISE\n",
    "    maxnoises = int(NOISE * NUMPOINTS)\n",
    "    countnoises = 0\n",
    "    for point in points:\n",
    "        if countnoises >= maxnoises:\n",
    "            break\n",
    "        if random.uniform(0,1) < 0.1:\n",
    "            point[5] = -point[5]\n",
    "            countnoises += 1\n",
    "\n",
    "    #APPLY ALGORITHM\n",
    "    xmat = []\n",
    "    ymat = []\n",
    "    for point in points:\n",
    "        xmat.append([1, point[0], point[1], point[2], point[3], point[4]])\n",
    "        ymat.append(point[5])\n",
    "    xmat = numpy.asarray(xmat)\n",
    "    ymat = numpy.asarray(ymat)\n",
    "    \n",
    "    #Compute pseudo inverse\n",
    "    pseudoinverse = linalg.pinv(xmat)\n",
    "    #print(pseudoinverse)\n",
    "    weight = numpy.matmul(pseudoinverse, ymat)\n",
    "    #print(weight)\n",
    "    \n",
    "    wrongcount = 0\n",
    "    for point in points:\n",
    "        if numpy.sign(weight[0] + weight[1]*point[0] + weight[2]*point[1] + weight[3]*point[2] + \\\n",
    "                      weight[4]*point[3] + weight[5]*point[4]) != point[5]:\n",
    "            wrongcount += 1\n",
    "    wrongcount /= NUMPOINTS\n",
    "            \n",
    "    return [weight, [centerpt, otherpt], points, wrongcount]"
   ]
  },
  {
   "cell_type": "code",
   "execution_count": 355,
   "metadata": {},
   "outputs": [
    {
     "name": "stdout",
     "output_type": "stream",
     "text": [
      "Average weights for linear regression:\n",
      "[-1.003068058596127, 0.0003472347653361053, 0.0004186320096207487, -0.0009046897250025371, 1.5738474636217532, 1.5773609207045522]\n"
     ]
    }
   ],
   "source": [
    "#Testing for question 9\n",
    "totals = [0,0,0,0,0,0]\n",
    "for a in range(1000):\n",
    "    result = doNonLinRegRun(1000.0, 0.1)[0]\n",
    "    totals[0] = totals[0] + result[0]\n",
    "    totals[1] = totals[1] + result[1]\n",
    "    totals[2] = totals[2] + result[2]\n",
    "    totals[3] = totals[3] + result[3]\n",
    "    totals[4] = totals[4] + result[4]\n",
    "    totals[5] = totals[5] + result[5]\n",
    "totals[0] = totals[0]/1000.0\n",
    "totals[1] = totals[1]/1000.0\n",
    "totals[2] = totals[2]/1000.0\n",
    "totals[3] = totals[3]/1000.0\n",
    "totals[4] = totals[4]/1000.0\n",
    "totals[5] = totals[5]/1000.0\n",
    "print(\"Average weights for linear regression:\")\n",
    "print(totals)"
   ]
  },
  {
   "cell_type": "markdown",
   "metadata": {},
   "source": [
    "These weights closely correspond to those of option A (-1, -0.05, 0.08, 0.13, 1.5, 1.5). Therefore the answer to question 9 is A."
   ]
  },
  {
   "cell_type": "code",
   "execution_count": 359,
   "metadata": {},
   "outputs": [
    {
     "name": "stdout",
     "output_type": "stream",
     "text": [
      "E_out average: 0.12596700000000002\n"
     ]
    }
   ],
   "source": [
    "NUMTESTS = 1000.0\n",
    "\n",
    "#Testing for question 10\n",
    "\n",
    "eOutAvg = []\n",
    "\n",
    "for a in range(int(NUMTESTS)):\n",
    "    mistake = 0\n",
    "    res = doNonLinRegRun(1000.0, 0.1)[0]\n",
    "    for a in range(1000):\n",
    "        rP = [random.uniform(-1,1), random.uniform(-1,1)]\n",
    "        if random.uniform(0,1) > 0.1:\n",
    "            rP.append(numpy.sign(rP[0]**2 + rP[1]**2 - 0.6))\n",
    "        else:\n",
    "            rP.append(-numpy.sign(rP[0]**2 + rP[1]**2 - 0.6))\n",
    "        if rP[2] != numpy.sign(res[0] + res[1]*rP[0] + res[2]*rP[1] + res[3]*rP[0]*rP[1] + \\\n",
    "                               res[4]*rP[0]**2 + res[5]*rP[1]**2):\n",
    "            mistake += 1\n",
    "    eOutAvg.append(mistake/1000.0)\n",
    "    \n",
    "print(\"E_out average: \" + str(numpy.mean(eOutAvg)))"
   ]
  },
  {
   "cell_type": "markdown",
   "metadata": {},
   "source": [
    "Because E_out is closest to 0.1, the answer to question 10 is B."
   ]
  },
  {
   "cell_type": "code",
   "execution_count": null,
   "metadata": {},
   "outputs": [],
   "source": []
  }
 ],
 "metadata": {
  "kernelspec": {
   "display_name": "Python 3",
   "language": "python",
   "name": "python3"
  },
  "language_info": {
   "codemirror_mode": {
    "name": "ipython",
    "version": 3
   },
   "file_extension": ".py",
   "mimetype": "text/x-python",
   "name": "python",
   "nbconvert_exporter": "python",
   "pygments_lexer": "ipython3",
   "version": "3.7.0"
  }
 },
 "nbformat": 4,
 "nbformat_minor": 2
}
