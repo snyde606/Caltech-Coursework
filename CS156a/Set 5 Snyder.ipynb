{
 "cells": [
  {
   "cell_type": "code",
   "execution_count": 11,
   "metadata": {},
   "outputs": [
    {
     "name": "stdout",
     "output_type": "stream",
     "text": [
      "Number of iterations: 10\n"
     ]
    }
   ],
   "source": [
    "# PROBLEM 5\n",
    "\n",
    "import numpy\n",
    "\n",
    "def errorOf(w):\n",
    "    return (w[0]*numpy.exp(w[1]) - 2.0*w[1]*numpy.exp(-w[0]))**2.0\n",
    "def gradXOf(w):\n",
    "    return 2.0*(numpy.exp(w[1]) + 2.0*w[1]*numpy.exp(-w[0]))*(w[0]*numpy.exp(w[1]) - 2.0*w[1]*numpy.exp(-w[0]))\n",
    "def gradYOf(w):\n",
    "    return 2.0*(w[0]*numpy.exp(w[1]) - 2.0*numpy.exp(-w[0]))*(w[0]*numpy.exp(w[1]) - 2.0*w[1]*numpy.exp(-w[0]))\n",
    "\n",
    "w1 = 1.0\n",
    "w2 = 1.0\n",
    "\n",
    "count = 0\n",
    "while errorOf([w1,w2]) > 10e-14:\n",
    "    temp = gradYOf([w1,w2])\n",
    "    w1 -= 0.1*gradXOf([w1,w2])\n",
    "    w2 -= 0.1*temp\n",
    "    count += 1\n",
    "    \n",
    "print(\"Number of iterations: \" + str(count))"
   ]
  },
  {
   "cell_type": "markdown",
   "metadata": {},
   "source": [
    "The number of iterations for E to fall below 10e-14 fpr the first time is 10 iterations. Therefore the answer is D."
   ]
  },
  {
   "cell_type": "code",
   "execution_count": 17,
   "metadata": {},
   "outputs": [
    {
     "name": "stdout",
     "output_type": "stream",
     "text": [
      "1.365717886924672\n",
      "0.6685948857743971\n",
      "0.0926123232021653\n",
      "0.12783573228217807\n",
      "0.0002669218610597792\n"
     ]
    }
   ],
   "source": [
    "# PROBLEM 6\n",
    "\n",
    "import numpy\n",
    "\n",
    "def errorOf(w):\n",
    "    return (w[0]*numpy.exp(w[1]) - 2.0*w[1]*numpy.exp(-w[0]))**2.0\n",
    "def gradXOf(w):\n",
    "    return 2.0*(numpy.exp(w[1]) + 2.0*w[1]*numpy.exp(-w[0]))*(w[0]*numpy.exp(w[1]) - 2.0*w[1]*numpy.exp(-w[0]))\n",
    "def gradYOf(w):\n",
    "    return 2.0*(w[0]*numpy.exp(w[1]) - 2.0*numpy.exp(-w[0]))*(w[0]*numpy.exp(w[1]) - 2.0*w[1]*numpy.exp(-w[0]))\n",
    "\n",
    "w1 = 1.0\n",
    "w2 = 1.0\n",
    "\n",
    "count = 0\n",
    "while errorOf([w1,w2]) > 10e-14:\n",
    "    temp = gradYOf([w1,w2])\n",
    "    w1 -= 0.1*gradXOf([w1,w2])\n",
    "    w2 -= 0.1*temp\n",
    "    count += 1\n",
    "    \n",
    "adist = numpy.sqrt((w1-1.0)**2 + (w2-1.0)**2)\n",
    "print(adist)\n",
    "bdist = numpy.sqrt((w1-0.713)**2 + (w2-0.045)**2)\n",
    "print(bdist)\n",
    "cdist = numpy.sqrt((w1-0.016)**2 + (w2-0.112)**2)\n",
    "print(cdist)\n",
    "ddist = numpy.sqrt((w1+0.083)**2 + (w2-0.029)**2)\n",
    "print(ddist)\n",
    "edist = numpy.sqrt((w1-0.045)**2 + (w2-0.024)**2)\n",
    "print(edist)"
   ]
  },
  {
   "cell_type": "markdown",
   "metadata": {},
   "source": [
    "The shortest distance is from the (u,v) pair in choice E. Therefore the answer is E."
   ]
  },
  {
   "cell_type": "code",
   "execution_count": 5,
   "metadata": {},
   "outputs": [
    {
     "name": "stdout",
     "output_type": "stream",
     "text": [
      "Error: 34.29016311234976\n",
      "Error: 0.5341425913722001\n",
      "Error: 0.4326608273241937\n",
      "Error: 0.3650397350187306\n",
      "Error: 0.31646807535966437\n",
      "Error: 0.2797634230640926\n",
      "Error: 0.25098631167528807\n",
      "Error: 0.22778329894427699\n",
      "Error: 0.20865669572438028\n",
      "Error: 0.19260565861364648\n",
      "Error: 0.17893474840754628\n",
      "Error: 0.167145054343084\n",
      "Error: 0.15686898732952279\n",
      "Error: 0.14782952252409787\n",
      "Error: 0.13981379199615315\n"
     ]
    }
   ],
   "source": [
    "# PROBLEM 7\n",
    "\n",
    "import numpy\n",
    "\n",
    "def errorOf(w):\n",
    "    return (w[0]*numpy.exp(w[1]) - 2.0*w[1]*numpy.exp(-w[0]))**2.0\n",
    "def gradXOf(w):\n",
    "    return 2.0*(numpy.exp(w[1]) + 2.0*w[1]*numpy.exp(-w[0]))*(w[0]*numpy.exp(w[1]) - 2.0*w[1]*numpy.exp(-w[0]))\n",
    "def gradYOf(w):\n",
    "    return 2.0*(w[0]*numpy.exp(w[1]) - 2.0*numpy.exp(-w[0]))*(w[0]*numpy.exp(w[1]) - 2.0*w[1]*numpy.exp(-w[0]))\n",
    "\n",
    "w1 = 1.0\n",
    "w2 = 1.0\n",
    "\n",
    "count = 0\n",
    "while count<15:\n",
    "    w1 -= 0.1*gradXOf([w1,w2])\n",
    "    w2 -= 0.1*gradYOf([w1,w2])\n",
    "    print(\"Error: \" + str(errorOf([w1,w2])))\n",
    "    count += 1"
   ]
  },
  {
   "cell_type": "markdown",
   "metadata": {},
   "source": [
    "The error after 15 full iterations is closest to 10e-1. Therefore the answer is A."
   ]
  },
  {
   "cell_type": "code",
   "execution_count": 28,
   "metadata": {},
   "outputs": [
    {
     "name": "stdout",
     "output_type": "stream",
     "text": [
      "Avg epochs: 373.2\n",
      "Avg Eout: 0.012619999999999998\n"
     ]
    }
   ],
   "source": [
    "# PROBLEMS 8 AND 9\n",
    "\n",
    "import numpy\n",
    "import random\n",
    "\n",
    "def distBetween(pt1, pt2):\n",
    "    return numpy.sqrt( (pt1[0] - pt2[0])**2 + (pt1[1] - pt2[1])**2 +(pt1[2] - pt2[2])**2 )\n",
    "\n",
    "def gradError(pt, wt):\n",
    "    p1 = -pt[2]/(1 + numpy.exp(pt[2]*(wt[0] + wt[1]*pt[0] + wt[2]*pt[1])))\n",
    "    p2 = -pt[2]*pt[0]/(1 + numpy.exp(pt[2]*(wt[0] + wt[1]*pt[0] + wt[2]*pt[1])))\n",
    "    p3 = -pt[2]*pt[1]/(1 + numpy.exp(pt[2]*(wt[0] + wt[1]*pt[0] + wt[2]*pt[1])))\n",
    "    return [p1, p2, p3]\n",
    "\n",
    "avgEpoch = 0\n",
    "avgEout = 0\n",
    "NUMRUNS = 5\n",
    "for a in range(NUMRUNS):\n",
    "\n",
    "    # GENERATE POINTS\n",
    "    centerpt = [random.uniform(-1,1), random.uniform(-1,1)]\n",
    "    otherpt = [random.uniform(-1,1), random.uniform(-1,1)]\n",
    "    points = []    \n",
    "\n",
    "    for a in range(100):\n",
    "        points.append([random.uniform(-1,1), random.uniform(-1,1)])\n",
    "    for point in points:\n",
    "        if point[1] > (otherpt[1]-centerpt[1])/(otherpt[0]-centerpt[0])*(point[0]-centerpt[0]):\n",
    "            point.append(1)\n",
    "        else:\n",
    "            point.append(-1)\n",
    "\n",
    "\n",
    "    w = [0.0, 0.0, 0.0]\n",
    "    oldw = [5.0, 5.0, 5.0]\n",
    "\n",
    "    # TRAIN\n",
    "    epochCount = 0\n",
    "    while distBetween(w, oldw) > 0.01:\n",
    "        epochCount += 1\n",
    "        order = list(range(100))\n",
    "        random.shuffle(order)\n",
    "        oldw[0] = w[0]\n",
    "        oldw[1] = w[1]\n",
    "        oldw[2] = w[2]\n",
    "        for a in order:\n",
    "            gerror = gradError(points[a], w)\n",
    "            w[0] -= 0.01*gerror[0]\n",
    "            w[1] -= 0.01*gerror[1]\n",
    "            w[2] -= 0.01*gerror[2]\n",
    "\n",
    "    avgEpoch += epochCount\n",
    "\n",
    "    # COMPUTE E_OUT\n",
    "    testpoints = []    \n",
    "\n",
    "    for a in range(10000):\n",
    "        testpoints.append([random.uniform(-1,1), random.uniform(-1,1)])\n",
    "    for point in testpoints:\n",
    "        if point[1] > (otherpt[1]-centerpt[1])/(otherpt[0]-centerpt[0])*(point[0]-centerpt[0]):\n",
    "            point.append(1)\n",
    "        else:\n",
    "            point.append(-1)\n",
    "    wrongcount = 0\n",
    "    for point in testpoints:\n",
    "        wrongcount += numpy.log()\n",
    "    wrongcount /= 10000\n",
    "    avgEout += wrongcount\n",
    "\n",
    "print(\"Avg epochs: \" + str(avgEpoch/NUMRUNS))\n",
    "print(\"Avg Eout: \" + str(avgEout/NUMRUNS))"
   ]
  },
  {
   "cell_type": "code",
   "execution_count": 41,
   "metadata": {},
   "outputs": [
    {
     "data": {
      "text/plain": [
       "[1, 0]"
      ]
     },
     "execution_count": 41,
     "metadata": {},
     "output_type": "execute_result"
    }
   ],
   "source": [
    "a=list(range(2))\n",
    "random.shuffle(a)\n",
    "a"
   ]
  },
  {
   "cell_type": "code",
   "execution_count": 32,
   "metadata": {},
   "outputs": [
    {
     "data": {
      "text/plain": [
       "1.0"
      ]
     },
     "execution_count": 32,
     "metadata": {},
     "output_type": "execute_result"
    }
   ],
   "source": [
    "numpy.log(numpy.e)"
   ]
  },
  {
   "cell_type": "code",
   "execution_count": 11,
   "metadata": {},
   "outputs": [
    {
     "data": {
      "text/plain": [
       "False"
      ]
     },
     "execution_count": 11,
     "metadata": {},
     "output_type": "execute_result"
    }
   ],
   "source": [
    "1==2"
   ]
  },
  {
   "cell_type": "code",
   "execution_count": null,
   "metadata": {},
   "outputs": [],
   "source": []
  }
 ],
 "metadata": {
  "kernelspec": {
   "display_name": "Python 3",
   "language": "python",
   "name": "python3"
  },
  "language_info": {
   "codemirror_mode": {
    "name": "ipython",
    "version": 3
   },
   "file_extension": ".py",
   "mimetype": "text/x-python",
   "name": "python",
   "nbconvert_exporter": "python",
   "pygments_lexer": "ipython3",
   "version": "3.7.0"
  }
 },
 "nbformat": 4,
 "nbformat_minor": 2
}
